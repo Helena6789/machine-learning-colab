{
  "nbformat": 4,
  "nbformat_minor": 0,
  "metadata": {
    "colab": {
      "provenance": [],
      "gpuType": "T4"
    },
    "kernelspec": {
      "name": "python3",
      "display_name": "Python 3"
    },
    "language_info": {
      "name": "python"
    },
    "accelerator": "GPU"
  },
  "cells": [
    {
      "cell_type": "markdown",
      "source": [
        "Process images JSON input"
      ],
      "metadata": {
        "id": "4IQzyfNXXkrz"
      }
    },
    {
      "cell_type": "code",
      "execution_count": null,
      "metadata": {
        "colab": {
          "base_uri": "https://localhost:8080/"
        },
        "id": "cBgw8bbKXJd5",
        "outputId": "8df9d633-fe18-4996-ef24-949864fe209b"
      },
      "outputs": [
        {
          "output_type": "stream",
          "name": "stdout",
          "text": [
            "Requirement already satisfied: pyyaml in /usr/local/lib/python3.10/dist-packages (6.0.1)\n",
            "Requirement already satisfied: h5py in /usr/local/lib/python3.10/dist-packages (3.9.0)\n",
            "Requirement already satisfied: numpy>=1.17.3 in /usr/local/lib/python3.10/dist-packages (from h5py) (1.23.5)\n"
          ]
        }
      ],
      "source": [
        "pip install pyyaml h5py  # Required to save models in HDF5 format"
      ]
    },
    {
      "cell_type": "code",
      "source": [
        "import os\n",
        "\n",
        "import tensorflow as tf\n",
        "from tensorflow import keras\n",
        "\n",
        "print(tf.version.VERSION)"
      ],
      "metadata": {
        "colab": {
          "base_uri": "https://localhost:8080/"
        },
        "id": "jC_B4Ct9XoSf",
        "outputId": "214f826a-be49-494d-dbc1-517611bd2561"
      },
      "execution_count": null,
      "outputs": [
        {
          "output_type": "stream",
          "name": "stdout",
          "text": [
            "2.15.0\n"
          ]
        }
      ]
    },
    {
      "cell_type": "markdown",
      "source": [
        "### Get an example dataset"
      ],
      "metadata": {
        "id": "ajjdv2qIXudR"
      }
    },
    {
      "cell_type": "code",
      "source": [
        "(train_images, train_labels), (test_images, test_labels) = tf.keras.datasets.mnist.load_data()\n"
      ],
      "metadata": {
        "id": "5R2sApeiXqiN"
      },
      "execution_count": null,
      "outputs": []
    },
    {
      "cell_type": "code",
      "source": [
        "import matplotlib.pyplot as plt\n",
        "\n",
        "IMG_INDEX = 1011\n",
        "\n",
        "# Reshape the image from a 28x28 NumPy array to a 28x28 pixel format\n",
        "image = train_images[IMG_INDEX]\n",
        "\n",
        "# Display the image using matplotlib\n",
        "plt.imshow(image, cmap=\"gray\")\n",
        "plt.show()"
      ],
      "metadata": {
        "colab": {
          "base_uri": "https://localhost:8080/",
          "height": 430
        },
        "id": "2oC6EvfHYGGK",
        "outputId": "9a55cec9-3d9d-437b-dcf0-ccca341f2e7f"
      },
      "execution_count": null,
      "outputs": [
        {
          "output_type": "display_data",
          "data": {
            "text/plain": [
              "<Figure size 640x480 with 1 Axes>"
            ],
            "image/png": "[encoded data removed]"
          },
          "metadata": {}
        }
      ]
    },
    {
      "cell_type": "code",
      "source": [
        "train_labels = train_labels[:1000]\n",
        "test_labels = test_labels[:1000]"
      ],
      "metadata": {
        "id": "SyosrPVpg5Xe"
      },
      "execution_count": null,
      "outputs": []
    },
    {
      "cell_type": "code",
      "source": [
        "print(train_images.shape)\n",
        "\n",
        "# 2D [28,28] ->  1D [1, 784]\n",
        "train_images = train_images[:1000].reshape(-1, 28 * 28) / 255.0\n",
        "test_images = test_images[:1000].reshape(-1, 28 * 28) / 255.0\n",
        "\n",
        "train_images.shape"
      ],
      "metadata": {
        "colab": {
          "base_uri": "https://localhost:8080/"
        },
        "id": "XVwWXzxXcpcn",
        "outputId": "074e307f-2688-4ddf-becc-a2c4ed9204a4"
      },
      "execution_count": null,
      "outputs": [
        {
          "output_type": "stream",
          "name": "stdout",
          "text": [
            "(1000, 784)\n"
          ]
        },
        {
          "output_type": "execute_result",
          "data": {
            "text/plain": [
              "(1000, 784)"
            ]
          },
          "metadata": {},
          "execution_count": 73
        }
      ]
    },
    {
      "cell_type": "markdown",
      "source": [
        "Create model"
      ],
      "metadata": {
        "id": "BcmNmwAYZioJ"
      }
    },
    {
      "cell_type": "code",
      "source": [
        "# Define a simple sequential model\n",
        "def create_model():\n",
        "  model = tf.keras.Sequential([\n",
        "    keras.layers.Dense(512, activation='relu', input_shape=(784,)),\n",
        "    keras.layers.Dropout(0.2),\n",
        "    keras.layers.Dense(10)\n",
        "  ])\n",
        "\n",
        "  model.compile(optimizer='adam',\n",
        "                loss=tf.keras.losses.SparseCategoricalCrossentropy(from_logits=True),\n",
        "                metrics=[tf.keras.metrics.SparseCategoricalAccuracy()])\n",
        "\n",
        "  return model\n",
        "\n",
        "# Create a basic model instance\n",
        "model = create_model()\n",
        "\n",
        "# Display the model's architecture\n",
        "model.summary()"
      ],
      "metadata": {
        "colab": {
          "base_uri": "https://localhost:8080/"
        },
        "id": "biYdm0qDZh8Q",
        "outputId": "11897465-b0de-4974-cfa3-f89b5078cab2"
      },
      "execution_count": null,
      "outputs": [
        {
          "output_type": "stream",
          "name": "stdout",
          "text": [
            "Model: \"sequential_5\"\n",
            "_________________________________________________________________\n",
            " Layer (type)                Output Shape              Param #   \n",
            "=================================================================\n",
            " dense_10 (Dense)            (None, 512)               401920    \n",
            "                                                                 \n",
            " dropout_5 (Dropout)         (None, 512)               0         \n",
            "                                                                 \n",
            " dense_11 (Dense)            (None, 10)                5130      \n",
            "                                                                 \n",
            "=================================================================\n",
            "Total params: 407050 (1.55 MB)\n",
            "Trainable params: 407050 (1.55 MB)\n",
            "Non-trainable params: 0 (0.00 Byte)\n",
            "_________________________________________________________________\n"
          ]
        }
      ]
    },
    {
      "cell_type": "markdown",
      "source": [
        "### New high-level .keras format"
      ],
      "metadata": {
        "id": "WWrIlkFkbVDv"
      }
    },
    {
      "cell_type": "code",
      "source": [
        "\n",
        "model.fit(train_images, train_labels, epochs=5)\n",
        "\n",
        "# Save the entire model as a `.keras` zip archive.\n",
        "model.save('my_model.keras')"
      ],
      "metadata": {
        "colab": {
          "base_uri": "https://localhost:8080/"
        },
        "id": "47KQ4pbkabTZ",
        "outputId": "16a1f978-4c85-4e2b-acfe-2d8c6edccc20"
      },
      "execution_count": null,
      "outputs": [
        {
          "output_type": "stream",
          "name": "stdout",
          "text": [
            "Epoch 1/5\n",
            "32/32 [==============================] - 3s 4ms/step - loss: 1.1704 - sparse_categorical_accuracy: 0.6620\n",
            "Epoch 2/5\n",
            "32/32 [==============================] - 0s 3ms/step - loss: 0.4167 - sparse_categorical_accuracy: 0.8780\n",
            "Epoch 3/5\n",
            "32/32 [==============================] - 0s 3ms/step - loss: 0.2674 - sparse_categorical_accuracy: 0.9290\n",
            "Epoch 4/5\n",
            "32/32 [==============================] - 0s 3ms/step - loss: 0.2056 - sparse_categorical_accuracy: 0.9500\n",
            "Epoch 5/5\n",
            "32/32 [==============================] - 0s 3ms/step - loss: 0.1512 - sparse_categorical_accuracy: 0.9660\n"
          ]
        }
      ]
    },
    {
      "cell_type": "code",
      "source": [
        "new_model = tf.keras.models.load_model('my_model.keras')\n",
        "\n",
        "# Show the model architecture\n",
        "new_model.summary()"
      ],
      "metadata": {
        "colab": {
          "base_uri": "https://localhost:8080/"
        },
        "id": "7xUdCNF7ax6a",
        "outputId": "ec552a74-6c92-4074-d260-e4178b62cc6a"
      },
      "execution_count": null,
      "outputs": [
        {
          "output_type": "stream",
          "name": "stdout",
          "text": [
            "Model: \"sequential_1\"\n",
            "_________________________________________________________________\n",
            " Layer (type)                Output Shape              Param #   \n",
            "=================================================================\n",
            " dense_2 (Dense)             (None, 512)               401920    \n",
            "                                                                 \n",
            " dropout_1 (Dropout)         (None, 512)               0         \n",
            "                                                                 \n",
            " dense_3 (Dense)             (None, 10)                5130      \n",
            "                                                                 \n",
            "=================================================================\n",
            "Total params: 407050 (1.55 MB)\n",
            "Trainable params: 407050 (1.55 MB)\n",
            "Non-trainable params: 0 (0.00 Byte)\n",
            "_________________________________________________________________\n"
          ]
        }
      ]
    },
    {
      "cell_type": "markdown",
      "source": [
        "### HDF5 format"
      ],
      "metadata": {
        "id": "QHh5sAI6bO4p"
      }
    },
    {
      "cell_type": "code",
      "source": [
        "# Create and train a new model instance.\n",
        "model = create_model()\n",
        "model.fit(train_images, train_labels, epochs=10)\n",
        "\n",
        "# Save the entire model to a HDF5 file.\n",
        "# The '.h5' extension indicates that the model should be saved to HDF5.\n",
        "model.save('my_model.h5')"
      ],
      "metadata": {
        "colab": {
          "base_uri": "https://localhost:8080/"
        },
        "id": "5LJpol1fbIp5",
        "outputId": "257e516a-ab58-48b6-89eb-9d07e7fe74a5"
      },
      "execution_count": null,
      "outputs": [
        {
          "output_type": "stream",
          "name": "stdout",
          "text": [
            "Epoch 1/10\n",
            "32/32 [==============================] - 1s 3ms/step - loss: 2.2925 - sparse_categorical_accuracy: 0.1770\n",
            "Epoch 2/10\n",
            "32/32 [==============================] - 0s 3ms/step - loss: 2.2595 - sparse_categorical_accuracy: 0.2870\n",
            "Epoch 3/10\n",
            "32/32 [==============================] - 0s 3ms/step - loss: 2.2059 - sparse_categorical_accuracy: 0.3420\n",
            "Epoch 4/10\n",
            "32/32 [==============================] - 0s 3ms/step - loss: 2.1255 - sparse_categorical_accuracy: 0.4780\n",
            "Epoch 5/10\n",
            "32/32 [==============================] - 0s 3ms/step - loss: 2.0197 - sparse_categorical_accuracy: 0.4880\n",
            "Epoch 6/10\n",
            "32/32 [==============================] - 0s 3ms/step - loss: 1.8944 - sparse_categorical_accuracy: 0.5250\n",
            "Epoch 7/10\n",
            "32/32 [==============================] - 0s 3ms/step - loss: 1.7626 - sparse_categorical_accuracy: 0.5890\n",
            "Epoch 8/10\n",
            "32/32 [==============================] - 0s 3ms/step - loss: 1.6297 - sparse_categorical_accuracy: 0.6220\n",
            "Epoch 9/10\n",
            "32/32 [==============================] - 0s 3ms/step - loss: 1.5126 - sparse_categorical_accuracy: 0.6380\n",
            "Epoch 10/10\n",
            "32/32 [==============================] - 0s 3ms/step - loss: 1.4029 - sparse_categorical_accuracy: 0.6700\n"
          ]
        },
        {
          "output_type": "stream",
          "name": "stderr",
          "text": [
            "/usr/local/lib/python3.10/dist-packages/keras/src/engine/training.py:3103: UserWarning: You are saving your model as an HDF5 file via `model.save()`. This file format is considered legacy. We recommend using instead the native Keras format, e.g. `model.save('my_model.keras')`.\n",
            "  saving_api.save_model(\n"
          ]
        }
      ]
    },
    {
      "cell_type": "markdown",
      "source": [
        "### Mock dump test images to json"
      ],
      "metadata": {
        "id": "-pI8YAYAiMqW"
      }
    },
    {
      "cell_type": "code",
      "source": [
        "import json\n",
        "import numpy as np\n",
        "\n",
        "test_images_json = test_images[:100]\n",
        "test_labels_json = test_labels[:100]\n",
        "\n",
        "def save_images_to_json(images, labels, filename):\n",
        "  json_data = []\n",
        "  for image, label in zip(images, labels):\n",
        "    json_data.append({\n",
        "      \"features\": image.tolist(),\n",
        "      \"label\": int(label),\n",
        "    })\n",
        "  with open(filename, \"w\") as f:\n",
        "    json.dump(json_data, f, indent=2)\n",
        "\n",
        "save_images_to_json(test_images_json, test_labels_json, \"test_images.json\")"
      ],
      "metadata": {
        "id": "oLCuAH_3g3Jy"
      },
      "execution_count": null,
      "outputs": []
    },
    {
      "cell_type": "markdown",
      "source": [
        "### Load model"
      ],
      "metadata": {
        "id": "rD2NxCK8qUrh"
      }
    },
    {
      "cell_type": "code",
      "source": [
        "# Recreate the exact same model, including its weights and the optimizer\n",
        "new_model = tf.keras.models.load_model('my_model.h5')\n",
        "\n",
        "# Show the model architecture\n",
        "new_model.summary()"
      ],
      "metadata": {
        "colab": {
          "base_uri": "https://localhost:8080/"
        },
        "id": "ODknSia-dxSJ",
        "outputId": "a803b2e6-4c3b-4404-da52-1bf2d04cea10"
      },
      "execution_count": null,
      "outputs": [
        {
          "output_type": "stream",
          "name": "stdout",
          "text": [
            "Model: \"sequential_7\"\n",
            "_________________________________________________________________\n",
            " Layer (type)                Output Shape              Param #   \n",
            "=================================================================\n",
            " dense_14 (Dense)            (None, 512)               401920    \n",
            "                                                                 \n",
            " dropout_7 (Dropout)         (None, 512)               0         \n",
            "                                                                 \n",
            " dense_15 (Dense)            (None, 10)                5130      \n",
            "                                                                 \n",
            "=================================================================\n",
            "Total params: 407050 (1.55 MB)\n",
            "Trainable params: 407050 (1.55 MB)\n",
            "Non-trainable params: 0 (0.00 Byte)\n",
            "_________________________________________________________________\n"
          ]
        }
      ]
    },
    {
      "cell_type": "markdown",
      "source": [
        "### Load data"
      ],
      "metadata": {
        "id": "yhJd3Ri7nw4v"
      }
    },
    {
      "cell_type": "code",
      "source": [
        "# Define function to load data from JSON\n",
        "def load_json_data(filepath):\n",
        "  with open(filepath, \"r\") as f:\n",
        "    data = json.load(f)\n",
        "  features = []\n",
        "  labels = []\n",
        "  for sample in data:\n",
        "    features.append(sample[\"features\"])\n",
        "    labels.append(sample[\"label\"])\n",
        "  return tf.convert_to_tensor(features), tf.convert_to_tensor(labels)\n",
        "\n",
        "features, labels = load_json_data(\"test_images.json\")\n",
        "\n",
        "# plt.imshow(features[:1], cmap=\"gray\")\n",
        "# plt.show()\n",
        "\n",
        "loss, accuracy = model.evaluate(features, labels)\n",
        "print(f\"Loss: {loss:.4f}\")\n",
        "print(f\"Accuracy: {accuracy:.4f}\")"
      ],
      "metadata": {
        "colab": {
          "base_uri": "https://localhost:8080/"
        },
        "id": "xQk5SCE9nv0w",
        "outputId": "48230b65-bd3b-49d1-dcd9-515364512756"
      },
      "execution_count": null,
      "outputs": [
        {
          "output_type": "stream",
          "name": "stdout",
          "text": [
            "4/4 [==============================] - 0s 3ms/step - loss: 1.3588 - sparse_categorical_accuracy: 0.7100\n",
            "Loss: 1.3588\n",
            "Accuracy: 0.7100\n"
          ]
        }
      ]
    },
    {
      "cell_type": "code",
      "source": [
        "\n",
        "predictions = model.predict(features)\n",
        "\n",
        "# Optionally, extract predicted labels based on your model output format\n",
        "predicted_labels = [int(prediction.argmax()) for prediction in predictions]\n",
        "\n",
        "# Print or use the predictions and labels as needed\n",
        "print(f\"Predictions: {predicted_labels}\")"
      ],
      "metadata": {
        "colab": {
          "base_uri": "https://localhost:8080/"
        },
        "id": "rJORXtg1rkw8",
        "outputId": "2eeff9a1-7ec4-44f7-9332-b051df493e14"
      },
      "execution_count": null,
      "outputs": [
        {
          "output_type": "stream",
          "name": "stdout",
          "text": [
            "4/4 [==============================] - 0s 2ms/step\n",
            "Predictions: [7, 2, 1, 0, 4, 1, 7, 7, 0, 7, 0, 0, 7, 0, 1, 3, 7, 7, 2, 7, 7, 6, 7, 1, 7, 0, 7, 4, 0, 1, 3, 1, 3, 0, 7, 2, 7, 1, 1, 1, 1, 7, 7, 1, 1, 3, 1, 1, 4, 4, 6, 0, 7, 3, 0, 0, 4, 1, 7, 1, 7, 0, 7, 1, 7, 1, 7, 4, 3, 0, 7, 0, 0, 1, 1, 7, 1, 7, 1, 7, 7, 6, 2, 7, 1, 4, 7, 3, 6, 1, 3, 6, 1, 3, 1, 4, 1, 1, 0, 7]\n"
          ]
        }
      ]
    },
    {
      "cell_type": "code",
      "source": [
        "print(type(train_images))\n",
        "print(type(features))"
      ],
      "metadata": {
        "colab": {
          "base_uri": "https://localhost:8080/"
        },
        "id": "IXh07VHbruMF",
        "outputId": "cc32f0d4-4d54-4655-8aa3-1a03c4c775c9"
      },
      "execution_count": null,
      "outputs": [
        {
          "output_type": "stream",
          "name": "stdout",
          "text": [
            "<class 'numpy.ndarray'>\n",
            "<class 'tensorflow.python.framework.ops.EagerTensor'>\n"
          ]
        }
      ]
    }
  ]
}